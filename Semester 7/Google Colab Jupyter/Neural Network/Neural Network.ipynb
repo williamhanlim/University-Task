{
 "cells": [
  {
   "cell_type": "code",
   "execution_count": 1,
   "id": "Df53qM1yaNqJ",
   "metadata": {
    "executionInfo": {
     "elapsed": 5,
     "status": "ok",
     "timestamp": 1708011390025,
     "user": {
      "displayName": "Tjipto Juwono",
      "userId": "12239864922925145719"
     },
     "user_tz": -420
    },
    "id": "Df53qM1yaNqJ"
   },
   "outputs": [],
   "source": [
    "from google.colab import drive"
   ]
  },
  {
   "cell_type": "code",
   "execution_count": 2,
   "id": "fbUbih0qaTnu",
   "metadata": {
    "colab": {
     "base_uri": "https://localhost:8080/"
    },
    "executionInfo": {
     "elapsed": 20857,
     "status": "ok",
     "timestamp": 1708011415411,
     "user": {
      "displayName": "Tjipto Juwono",
      "userId": "12239864922925145719"
     },
     "user_tz": -420
    },
    "id": "fbUbih0qaTnu",
    "outputId": "d7353e32-03d2-4a91-d477-10151e09c2f8"
   },
   "outputs": [
    {
     "name": "stdout",
     "output_type": "stream",
     "text": [
      "Mounted at /content/drive\n"
     ]
    }
   ],
   "source": [
    "drive.mount('/content/drive', force_remount=True)"
   ]
  },
  {
   "cell_type": "code",
   "execution_count": 3,
   "id": "97582bf6",
   "metadata": {
    "executionInfo": {
     "elapsed": 728,
     "status": "ok",
     "timestamp": 1708011418965,
     "user": {
      "displayName": "Tjipto Juwono",
      "userId": "12239864922925145719"
     },
     "user_tz": -420
    },
    "id": "97582bf6"
   },
   "outputs": [],
   "source": [
    "import pandas as pd\n",
    "import numpy as np\n",
    "import matplotlib.pyplot as plt"
   ]
  },
  {
   "cell_type": "code",
   "execution_count": 4,
   "id": "4bbb37b1",
   "metadata": {
    "colab": {
     "base_uri": "https://localhost:8080/",
     "height": 226
    },
    "executionInfo": {
     "elapsed": 1645,
     "status": "ok",
     "timestamp": 1708011424302,
     "user": {
      "displayName": "Tjipto Juwono",
      "userId": "12239864922925145719"
     },
     "user_tz": -420
    },
    "id": "4bbb37b1",
    "outputId": "52e4b69a-3bef-4cb2-fced-72f9ef798bca"
   },
   "outputs": [
    {
     "data": {
      "application/vnd.google.colaboratory.intrinsic+json": {
       "summary": "{\n  \"name\": \"df\",\n  \"rows\": 20640,\n  \"fields\": [\n    {\n      \"column\": \"longitude\",\n      \"properties\": {\n        \"dtype\": \"number\",\n        \"std\": 2.0035317235025882,\n        \"min\": -124.35,\n        \"max\": -114.31,\n        \"samples\": [\n          -118.63,\n          -119.86,\n          -121.26\n        ],\n        \"num_unique_values\": 844,\n        \"semantic_type\": \"\",\n        \"description\": \"\"\n      }\n    },\n    {\n      \"column\": \"latitude\",\n      \"properties\": {\n        \"dtype\": \"number\",\n        \"std\": 2.1359523974571153,\n        \"min\": 32.54,\n        \"max\": 41.95,\n        \"samples\": [\n          33.7,\n          34.41,\n          38.24\n        ],\n        \"num_unique_values\": 862,\n        \"semantic_type\": \"\",\n        \"description\": \"\"\n      }\n    },\n    {\n      \"column\": \"housing_median_age\",\n      \"properties\": {\n        \"dtype\": \"number\",\n        \"std\": 12.58555761211165,\n        \"min\": 1.0,\n        \"max\": 52.0,\n        \"samples\": [\n          35.0,\n          25.0,\n          7.0\n        ],\n        \"num_unique_values\": 52,\n        \"semantic_type\": \"\",\n        \"description\": \"\"\n      }\n    },\n    {\n      \"column\": \"total_rooms\",\n      \"properties\": {\n        \"dtype\": \"number\",\n        \"std\": 2181.615251582795,\n        \"min\": 2.0,\n        \"max\": 39320.0,\n        \"samples\": [\n          699.0,\n          1544.0,\n          3966.0\n        ],\n        \"num_unique_values\": 5926,\n        \"semantic_type\": \"\",\n        \"description\": \"\"\n      }\n    },\n    {\n      \"column\": \"total_bedrooms\",\n      \"properties\": {\n        \"dtype\": \"number\",\n        \"std\": 421.3850700740323,\n        \"min\": 1.0,\n        \"max\": 6445.0,\n        \"samples\": [\n          1538.0,\n          1298.0,\n          1578.0\n        ],\n        \"num_unique_values\": 1923,\n        \"semantic_type\": \"\",\n        \"description\": \"\"\n      }\n    },\n    {\n      \"column\": \"population\",\n      \"properties\": {\n        \"dtype\": \"number\",\n        \"std\": 1132.462121765341,\n        \"min\": 3.0,\n        \"max\": 35682.0,\n        \"samples\": [\n          4169.0,\n          636.0,\n          3367.0\n        ],\n        \"num_unique_values\": 3888,\n        \"semantic_type\": \"\",\n        \"description\": \"\"\n      }\n    },\n    {\n      \"column\": \"households\",\n      \"properties\": {\n        \"dtype\": \"number\",\n        \"std\": 382.32975283161073,\n        \"min\": 1.0,\n        \"max\": 6082.0,\n        \"samples\": [\n          21.0,\n          750.0,\n          1447.0\n        ],\n        \"num_unique_values\": 1815,\n        \"semantic_type\": \"\",\n        \"description\": \"\"\n      }\n    },\n    {\n      \"column\": \"median_income\",\n      \"properties\": {\n        \"dtype\": \"number\",\n        \"std\": 1.8998217179452688,\n        \"min\": 0.4999,\n        \"max\": 15.0001,\n        \"samples\": [\n          5.0286,\n          2.0433,\n          6.1228\n        ],\n        \"num_unique_values\": 12928,\n        \"semantic_type\": \"\",\n        \"description\": \"\"\n      }\n    },\n    {\n      \"column\": \"median_house_value\",\n      \"properties\": {\n        \"dtype\": \"number\",\n        \"std\": 115395.61587441387,\n        \"min\": 14999.0,\n        \"max\": 500001.0,\n        \"samples\": [\n          194300.0,\n          379000.0,\n          230100.0\n        ],\n        \"num_unique_values\": 3842,\n        \"semantic_type\": \"\",\n        \"description\": \"\"\n      }\n    },\n    {\n      \"column\": \"ocean_proximity\",\n      \"properties\": {\n        \"dtype\": \"category\",\n        \"samples\": [\n          \"<1H OCEAN\",\n          \"ISLAND\",\n          \"INLAND\"\n        ],\n        \"num_unique_values\": 5,\n        \"semantic_type\": \"\",\n        \"description\": \"\"\n      }\n    }\n  ]\n}",
       "type": "dataframe",
       "variable_name": "df"
      },
      "text/html": [
       "\n",
       "  <div id=\"df-acf11a8a-232d-41b8-b2d0-61c1b893347c\" class=\"colab-df-container\">\n",
       "    <div>\n",
       "<style scoped>\n",
       "    .dataframe tbody tr th:only-of-type {\n",
       "        vertical-align: middle;\n",
       "    }\n",
       "\n",
       "    .dataframe tbody tr th {\n",
       "        vertical-align: top;\n",
       "    }\n",
       "\n",
       "    .dataframe thead th {\n",
       "        text-align: right;\n",
       "    }\n",
       "</style>\n",
       "<table border=\"1\" class=\"dataframe\">\n",
       "  <thead>\n",
       "    <tr style=\"text-align: right;\">\n",
       "      <th></th>\n",
       "      <th>longitude</th>\n",
       "      <th>latitude</th>\n",
       "      <th>housing_median_age</th>\n",
       "      <th>total_rooms</th>\n",
       "      <th>total_bedrooms</th>\n",
       "      <th>population</th>\n",
       "      <th>households</th>\n",
       "      <th>median_income</th>\n",
       "      <th>median_house_value</th>\n",
       "      <th>ocean_proximity</th>\n",
       "    </tr>\n",
       "  </thead>\n",
       "  <tbody>\n",
       "    <tr>\n",
       "      <th>0</th>\n",
       "      <td>-122.23</td>\n",
       "      <td>37.88</td>\n",
       "      <td>41.0</td>\n",
       "      <td>880.0</td>\n",
       "      <td>129.0</td>\n",
       "      <td>322.0</td>\n",
       "      <td>126.0</td>\n",
       "      <td>8.3252</td>\n",
       "      <td>452600.0</td>\n",
       "      <td>NEAR BAY</td>\n",
       "    </tr>\n",
       "    <tr>\n",
       "      <th>1</th>\n",
       "      <td>-122.22</td>\n",
       "      <td>37.86</td>\n",
       "      <td>21.0</td>\n",
       "      <td>7099.0</td>\n",
       "      <td>1106.0</td>\n",
       "      <td>2401.0</td>\n",
       "      <td>1138.0</td>\n",
       "      <td>8.3014</td>\n",
       "      <td>358500.0</td>\n",
       "      <td>NEAR BAY</td>\n",
       "    </tr>\n",
       "    <tr>\n",
       "      <th>2</th>\n",
       "      <td>-122.24</td>\n",
       "      <td>37.85</td>\n",
       "      <td>52.0</td>\n",
       "      <td>1467.0</td>\n",
       "      <td>190.0</td>\n",
       "      <td>496.0</td>\n",
       "      <td>177.0</td>\n",
       "      <td>7.2574</td>\n",
       "      <td>352100.0</td>\n",
       "      <td>NEAR BAY</td>\n",
       "    </tr>\n",
       "    <tr>\n",
       "      <th>3</th>\n",
       "      <td>-122.25</td>\n",
       "      <td>37.85</td>\n",
       "      <td>52.0</td>\n",
       "      <td>1274.0</td>\n",
       "      <td>235.0</td>\n",
       "      <td>558.0</td>\n",
       "      <td>219.0</td>\n",
       "      <td>5.6431</td>\n",
       "      <td>341300.0</td>\n",
       "      <td>NEAR BAY</td>\n",
       "    </tr>\n",
       "    <tr>\n",
       "      <th>4</th>\n",
       "      <td>-122.25</td>\n",
       "      <td>37.85</td>\n",
       "      <td>52.0</td>\n",
       "      <td>1627.0</td>\n",
       "      <td>280.0</td>\n",
       "      <td>565.0</td>\n",
       "      <td>259.0</td>\n",
       "      <td>3.8462</td>\n",
       "      <td>342200.0</td>\n",
       "      <td>NEAR BAY</td>\n",
       "    </tr>\n",
       "  </tbody>\n",
       "</table>\n",
       "</div>\n",
       "    <div class=\"colab-df-buttons\">\n",
       "\n",
       "  <div class=\"colab-df-container\">\n",
       "    <button class=\"colab-df-convert\" onclick=\"convertToInteractive('df-acf11a8a-232d-41b8-b2d0-61c1b893347c')\"\n",
       "            title=\"Convert this dataframe to an interactive table.\"\n",
       "            style=\"display:none;\">\n",
       "\n",
       "  <svg xmlns=\"http://www.w3.org/2000/svg\" height=\"24px\" viewBox=\"0 -960 960 960\">\n",
       "    <path d=\"M120-120v-720h720v720H120Zm60-500h600v-160H180v160Zm220 220h160v-160H400v160Zm0 220h160v-160H400v160ZM180-400h160v-160H180v160Zm440 0h160v-160H620v160ZM180-180h160v-160H180v160Zm440 0h160v-160H620v160Z\"/>\n",
       "  </svg>\n",
       "    </button>\n",
       "\n",
       "  <style>\n",
       "    .colab-df-container {\n",
       "      display:flex;\n",
       "      gap: 12px;\n",
       "    }\n",
       "\n",
       "    .colab-df-convert {\n",
       "      background-color: #E8F0FE;\n",
       "      border: none;\n",
       "      border-radius: 50%;\n",
       "      cursor: pointer;\n",
       "      display: none;\n",
       "      fill: #1967D2;\n",
       "      height: 32px;\n",
       "      padding: 0 0 0 0;\n",
       "      width: 32px;\n",
       "    }\n",
       "\n",
       "    .colab-df-convert:hover {\n",
       "      background-color: #E2EBFA;\n",
       "      box-shadow: 0px 1px 2px rgba(60, 64, 67, 0.3), 0px 1px 3px 1px rgba(60, 64, 67, 0.15);\n",
       "      fill: #174EA6;\n",
       "    }\n",
       "\n",
       "    .colab-df-buttons div {\n",
       "      margin-bottom: 4px;\n",
       "    }\n",
       "\n",
       "    [theme=dark] .colab-df-convert {\n",
       "      background-color: #3B4455;\n",
       "      fill: #D2E3FC;\n",
       "    }\n",
       "\n",
       "    [theme=dark] .colab-df-convert:hover {\n",
       "      background-color: #434B5C;\n",
       "      box-shadow: 0px 1px 3px 1px rgba(0, 0, 0, 0.15);\n",
       "      filter: drop-shadow(0px 1px 2px rgba(0, 0, 0, 0.3));\n",
       "      fill: #FFFFFF;\n",
       "    }\n",
       "  </style>\n",
       "\n",
       "    <script>\n",
       "      const buttonEl =\n",
       "        document.querySelector('#df-acf11a8a-232d-41b8-b2d0-61c1b893347c button.colab-df-convert');\n",
       "      buttonEl.style.display =\n",
       "        google.colab.kernel.accessAllowed ? 'block' : 'none';\n",
       "\n",
       "      async function convertToInteractive(key) {\n",
       "        const element = document.querySelector('#df-acf11a8a-232d-41b8-b2d0-61c1b893347c');\n",
       "        const dataTable =\n",
       "          await google.colab.kernel.invokeFunction('convertToInteractive',\n",
       "                                                    [key], {});\n",
       "        if (!dataTable) return;\n",
       "\n",
       "        const docLinkHtml = 'Like what you see? Visit the ' +\n",
       "          '<a target=\"_blank\" href=https://colab.research.google.com/notebooks/data_table.ipynb>data table notebook</a>'\n",
       "          + ' to learn more about interactive tables.';\n",
       "        element.innerHTML = '';\n",
       "        dataTable['output_type'] = 'display_data';\n",
       "        await google.colab.output.renderOutput(dataTable, element);\n",
       "        const docLink = document.createElement('div');\n",
       "        docLink.innerHTML = docLinkHtml;\n",
       "        element.appendChild(docLink);\n",
       "      }\n",
       "    </script>\n",
       "  </div>\n",
       "\n",
       "\n",
       "<div id=\"df-ff8ca8d1-2e62-4529-9dd0-d4f2f18beb2a\">\n",
       "  <button class=\"colab-df-quickchart\" onclick=\"quickchart('df-ff8ca8d1-2e62-4529-9dd0-d4f2f18beb2a')\"\n",
       "            title=\"Suggest charts\"\n",
       "            style=\"display:none;\">\n",
       "\n",
       "<svg xmlns=\"http://www.w3.org/2000/svg\" height=\"24px\"viewBox=\"0 0 24 24\"\n",
       "     width=\"24px\">\n",
       "    <g>\n",
       "        <path d=\"M19 3H5c-1.1 0-2 .9-2 2v14c0 1.1.9 2 2 2h14c1.1 0 2-.9 2-2V5c0-1.1-.9-2-2-2zM9 17H7v-7h2v7zm4 0h-2V7h2v10zm4 0h-2v-4h2v4z\"/>\n",
       "    </g>\n",
       "</svg>\n",
       "  </button>\n",
       "\n",
       "<style>\n",
       "  .colab-df-quickchart {\n",
       "      --bg-color: #E8F0FE;\n",
       "      --fill-color: #1967D2;\n",
       "      --hover-bg-color: #E2EBFA;\n",
       "      --hover-fill-color: #174EA6;\n",
       "      --disabled-fill-color: #AAA;\n",
       "      --disabled-bg-color: #DDD;\n",
       "  }\n",
       "\n",
       "  [theme=dark] .colab-df-quickchart {\n",
       "      --bg-color: #3B4455;\n",
       "      --fill-color: #D2E3FC;\n",
       "      --hover-bg-color: #434B5C;\n",
       "      --hover-fill-color: #FFFFFF;\n",
       "      --disabled-bg-color: #3B4455;\n",
       "      --disabled-fill-color: #666;\n",
       "  }\n",
       "\n",
       "  .colab-df-quickchart {\n",
       "    background-color: var(--bg-color);\n",
       "    border: none;\n",
       "    border-radius: 50%;\n",
       "    cursor: pointer;\n",
       "    display: none;\n",
       "    fill: var(--fill-color);\n",
       "    height: 32px;\n",
       "    padding: 0;\n",
       "    width: 32px;\n",
       "  }\n",
       "\n",
       "  .colab-df-quickchart:hover {\n",
       "    background-color: var(--hover-bg-color);\n",
       "    box-shadow: 0 1px 2px rgba(60, 64, 67, 0.3), 0 1px 3px 1px rgba(60, 64, 67, 0.15);\n",
       "    fill: var(--button-hover-fill-color);\n",
       "  }\n",
       "\n",
       "  .colab-df-quickchart-complete:disabled,\n",
       "  .colab-df-quickchart-complete:disabled:hover {\n",
       "    background-color: var(--disabled-bg-color);\n",
       "    fill: var(--disabled-fill-color);\n",
       "    box-shadow: none;\n",
       "  }\n",
       "\n",
       "  .colab-df-spinner {\n",
       "    border: 2px solid var(--fill-color);\n",
       "    border-color: transparent;\n",
       "    border-bottom-color: var(--fill-color);\n",
       "    animation:\n",
       "      spin 1s steps(1) infinite;\n",
       "  }\n",
       "\n",
       "  @keyframes spin {\n",
       "    0% {\n",
       "      border-color: transparent;\n",
       "      border-bottom-color: var(--fill-color);\n",
       "      border-left-color: var(--fill-color);\n",
       "    }\n",
       "    20% {\n",
       "      border-color: transparent;\n",
       "      border-left-color: var(--fill-color);\n",
       "      border-top-color: var(--fill-color);\n",
       "    }\n",
       "    30% {\n",
       "      border-color: transparent;\n",
       "      border-left-color: var(--fill-color);\n",
       "      border-top-color: var(--fill-color);\n",
       "      border-right-color: var(--fill-color);\n",
       "    }\n",
       "    40% {\n",
       "      border-color: transparent;\n",
       "      border-right-color: var(--fill-color);\n",
       "      border-top-color: var(--fill-color);\n",
       "    }\n",
       "    60% {\n",
       "      border-color: transparent;\n",
       "      border-right-color: var(--fill-color);\n",
       "    }\n",
       "    80% {\n",
       "      border-color: transparent;\n",
       "      border-right-color: var(--fill-color);\n",
       "      border-bottom-color: var(--fill-color);\n",
       "    }\n",
       "    90% {\n",
       "      border-color: transparent;\n",
       "      border-bottom-color: var(--fill-color);\n",
       "    }\n",
       "  }\n",
       "</style>\n",
       "\n",
       "  <script>\n",
       "    async function quickchart(key) {\n",
       "      const quickchartButtonEl =\n",
       "        document.querySelector('#' + key + ' button');\n",
       "      quickchartButtonEl.disabled = true;  // To prevent multiple clicks.\n",
       "      quickchartButtonEl.classList.add('colab-df-spinner');\n",
       "      try {\n",
       "        const charts = await google.colab.kernel.invokeFunction(\n",
       "            'suggestCharts', [key], {});\n",
       "      } catch (error) {\n",
       "        console.error('Error during call to suggestCharts:', error);\n",
       "      }\n",
       "      quickchartButtonEl.classList.remove('colab-df-spinner');\n",
       "      quickchartButtonEl.classList.add('colab-df-quickchart-complete');\n",
       "    }\n",
       "    (() => {\n",
       "      let quickchartButtonEl =\n",
       "        document.querySelector('#df-ff8ca8d1-2e62-4529-9dd0-d4f2f18beb2a button');\n",
       "      quickchartButtonEl.style.display =\n",
       "        google.colab.kernel.accessAllowed ? 'block' : 'none';\n",
       "    })();\n",
       "  </script>\n",
       "</div>\n",
       "    </div>\n",
       "  </div>\n"
      ],
      "text/plain": [
       "   longitude  latitude  housing_median_age  total_rooms  total_bedrooms  \\\n",
       "0    -122.23     37.88                41.0        880.0           129.0   \n",
       "1    -122.22     37.86                21.0       7099.0          1106.0   \n",
       "2    -122.24     37.85                52.0       1467.0           190.0   \n",
       "3    -122.25     37.85                52.0       1274.0           235.0   \n",
       "4    -122.25     37.85                52.0       1627.0           280.0   \n",
       "\n",
       "   population  households  median_income  median_house_value ocean_proximity  \n",
       "0       322.0       126.0         8.3252            452600.0        NEAR BAY  \n",
       "1      2401.0      1138.0         8.3014            358500.0        NEAR BAY  \n",
       "2       496.0       177.0         7.2574            352100.0        NEAR BAY  \n",
       "3       558.0       219.0         5.6431            341300.0        NEAR BAY  \n",
       "4       565.0       259.0         3.8462            342200.0        NEAR BAY  "
      ]
     },
     "execution_count": 4,
     "metadata": {},
     "output_type": "execute_result"
    }
   ],
   "source": [
    "df = pd.read_csv(\"/content/drive/MyDrive/COLAB/NN2/housing.csv\")\n",
    "df.head()"
   ]
  },
  {
   "cell_type": "code",
   "execution_count": 5,
   "id": "fd75fdd3",
   "metadata": {
    "executionInfo": {
     "elapsed": 360,
     "status": "ok",
     "timestamp": 1708011437591,
     "user": {
      "displayName": "Tjipto Juwono",
      "userId": "12239864922925145719"
     },
     "user_tz": -420
    },
    "id": "fd75fdd3"
   },
   "outputs": [],
   "source": [
    "X = np.array(df[['longitude', 'latitude', 'housing_median_age', 'total_rooms', 'total_bedrooms', 'population', 'households', 'median_income']])\n",
    "y = np.array(df['median_house_value'])"
   ]
  },
  {
   "cell_type": "code",
   "execution_count": 6,
   "id": "22acbd30",
   "metadata": {
    "executionInfo": {
     "elapsed": 908,
     "status": "ok",
     "timestamp": 1708011441249,
     "user": {
      "displayName": "Tjipto Juwono",
      "userId": "12239864922925145719"
     },
     "user_tz": -420
    },
    "id": "22acbd30"
   },
   "outputs": [],
   "source": [
    "from sklearn.model_selection import train_test_split\n",
    "X_train, X_test, y_train, y_test = train_test_split(X, y, test_size = 0.2, random_state = 42)"
   ]
  },
  {
   "cell_type": "code",
   "execution_count": 7,
   "id": "9e625ecb",
   "metadata": {
    "executionInfo": {
     "elapsed": 4682,
     "status": "ok",
     "timestamp": 1708011447474,
     "user": {
      "displayName": "Tjipto Juwono",
      "userId": "12239864922925145719"
     },
     "user_tz": -420
    },
    "id": "9e625ecb"
   },
   "outputs": [],
   "source": [
    "from keras.models import Sequential\n",
    "model = Sequential()"
   ]
  },
  {
   "cell_type": "code",
   "execution_count": 8,
   "id": "bc9578cf",
   "metadata": {
    "executionInfo": {
     "elapsed": 2,
     "status": "ok",
     "timestamp": 1708011449174,
     "user": {
      "displayName": "Tjipto Juwono",
      "userId": "12239864922925145719"
     },
     "user_tz": -420
    },
    "id": "bc9578cf"
   },
   "outputs": [],
   "source": [
    "from keras.layers import Dense\n",
    "model.add(Dense(8, input_shape = (8,)))\n",
    "model.add(Dense(8, activation = 'relu'))\n",
    "model.add(Dense(1, activation = 'linear'))"
   ]
  },
  {
   "cell_type": "code",
   "execution_count": 9,
   "id": "a95ce63b",
   "metadata": {
    "executionInfo": {
     "elapsed": 384,
     "status": "ok",
     "timestamp": 1708011454754,
     "user": {
      "displayName": "Tjipto Juwono",
      "userId": "12239864922925145719"
     },
     "user_tz": -420
    },
    "id": "a95ce63b"
   },
   "outputs": [],
   "source": [
    "model.compile(optimizer='rmsprop', loss='mse', metrics =['mse'])"
   ]
  },
  {
   "cell_type": "code",
   "execution_count": 10,
   "id": "d21334d7",
   "metadata": {
    "colab": {
     "base_uri": "https://localhost:8080/"
    },
    "executionInfo": {
     "elapsed": 417,
     "status": "ok",
     "timestamp": 1708011458615,
     "user": {
      "displayName": "Tjipto Juwono",
      "userId": "12239864922925145719"
     },
     "user_tz": -420
    },
    "id": "d21334d7",
    "outputId": "c1dd087f-de29-4250-c8b0-8bb5667fedb1"
   },
   "outputs": [
    {
     "name": "stdout",
     "output_type": "stream",
     "text": [
      "Model: \"sequential\"\n",
      "_________________________________________________________________\n",
      " Layer (type)                Output Shape              Param #   \n",
      "=================================================================\n",
      " dense (Dense)               (None, 8)                 72        \n",
      "                                                                 \n",
      " dense_1 (Dense)             (None, 8)                 72        \n",
      "                                                                 \n",
      " dense_2 (Dense)             (None, 1)                 9         \n",
      "                                                                 \n",
      "=================================================================\n",
      "Total params: 153 (612.00 Byte)\n",
      "Trainable params: 153 (612.00 Byte)\n",
      "Non-trainable params: 0 (0.00 Byte)\n",
      "_________________________________________________________________\n",
      "None\n"
     ]
    }
   ],
   "source": [
    "print(model.summary())"
   ]
  },
  {
   "cell_type": "code",
   "execution_count": 11,
   "id": "ada491e4",
   "metadata": {
    "colab": {
     "base_uri": "https://localhost:8080/"
    },
    "executionInfo": {
     "elapsed": 203215,
     "status": "ok",
     "timestamp": 1708011673020,
     "user": {
      "displayName": "Tjipto Juwono",
      "userId": "12239864922925145719"
     },
     "user_tz": -420
    },
    "id": "ada491e4",
    "outputId": "f34a0d35-0b79-4bb6-b538-6344129d55ea"
   },
   "outputs": [
    {
     "name": "stdout",
     "output_type": "stream",
     "text": [
      "Epoch 1/50\n",
      "1652/1652 [==============================] - 4s 2ms/step - loss: 34226923520.0000 - mse: 34226923520.0000\n",
      "Epoch 2/50\n",
      "1652/1652 [==============================] - 3s 2ms/step - loss: 25898483712.0000 - mse: 25898483712.0000\n",
      "Epoch 3/50\n",
      "1652/1652 [==============================] - 3s 2ms/step - loss: 24464007168.0000 - mse: 24464007168.0000\n",
      "Epoch 4/50\n",
      "1652/1652 [==============================] - 4s 2ms/step - loss: 22681556992.0000 - mse: 22681556992.0000\n",
      "Epoch 5/50\n",
      "1652/1652 [==============================] - 4s 3ms/step - loss: 20151052288.0000 - mse: 20151052288.0000\n",
      "Epoch 6/50\n",
      "1652/1652 [==============================] - 3s 2ms/step - loss: 16437028864.0000 - mse: 16437028864.0000\n",
      "Epoch 7/50\n",
      "1652/1652 [==============================] - 3s 2ms/step - loss: 12583859200.0000 - mse: 12583859200.0000\n",
      "Epoch 8/50\n",
      "1652/1652 [==============================] - 3s 2ms/step - loss: 11451884544.0000 - mse: 11451884544.0000\n",
      "Epoch 9/50\n",
      "1652/1652 [==============================] - 3s 2ms/step - loss: 11354451968.0000 - mse: 11354451968.0000\n",
      "Epoch 10/50\n",
      "1652/1652 [==============================] - 3s 2ms/step - loss: 11306439680.0000 - mse: 11306439680.0000\n",
      "Epoch 11/50\n",
      "1652/1652 [==============================] - 3s 2ms/step - loss: 11240871936.0000 - mse: 11240871936.0000\n",
      "Epoch 12/50\n",
      "1652/1652 [==============================] - 3s 2ms/step - loss: 11179313152.0000 - mse: 11179313152.0000\n",
      "Epoch 13/50\n",
      "1652/1652 [==============================] - 4s 2ms/step - loss: 11110201344.0000 - mse: 11110201344.0000\n",
      "Epoch 14/50\n",
      "1652/1652 [==============================] - 3s 2ms/step - loss: 11030615040.0000 - mse: 11030617088.0000\n",
      "Epoch 15/50\n",
      "1652/1652 [==============================] - 3s 2ms/step - loss: 10944179200.0000 - mse: 10944179200.0000\n",
      "Epoch 16/50\n",
      "1652/1652 [==============================] - 3s 2ms/step - loss: 10857489408.0000 - mse: 10857489408.0000\n",
      "Epoch 17/50\n",
      "1652/1652 [==============================] - 3s 2ms/step - loss: 10762180608.0000 - mse: 10762180608.0000\n",
      "Epoch 18/50\n",
      "1652/1652 [==============================] - 4s 2ms/step - loss: 10660744192.0000 - mse: 10660744192.0000\n",
      "Epoch 19/50\n",
      "1652/1652 [==============================] - 3s 2ms/step - loss: 10578050048.0000 - mse: 10578050048.0000\n",
      "Epoch 20/50\n",
      "1652/1652 [==============================] - 3s 2ms/step - loss: 10512579584.0000 - mse: 10512579584.0000\n",
      "Epoch 21/50\n",
      "1652/1652 [==============================] - 3s 2ms/step - loss: 10441116672.0000 - mse: 10441116672.0000\n",
      "Epoch 22/50\n",
      "1652/1652 [==============================] - 4s 2ms/step - loss: 10418523136.0000 - mse: 10418524160.0000\n",
      "Epoch 23/50\n",
      "1652/1652 [==============================] - 3s 2ms/step - loss: 10377993216.0000 - mse: 10377993216.0000\n",
      "Epoch 24/50\n",
      "1652/1652 [==============================] - 3s 2ms/step - loss: 10310743040.0000 - mse: 10310743040.0000\n",
      "Epoch 25/50\n",
      "1652/1652 [==============================] - 3s 2ms/step - loss: 10244649984.0000 - mse: 10244649984.0000\n",
      "Epoch 26/50\n",
      "1652/1652 [==============================] - 3s 2ms/step - loss: 10170437632.0000 - mse: 10170437632.0000\n",
      "Epoch 27/50\n",
      "1652/1652 [==============================] - 4s 2ms/step - loss: 10086214656.0000 - mse: 10086214656.0000\n",
      "Epoch 28/50\n",
      "1652/1652 [==============================] - 3s 2ms/step - loss: 10037384192.0000 - mse: 10037384192.0000\n",
      "Epoch 29/50\n",
      "1652/1652 [==============================] - 3s 2ms/step - loss: 9948340224.0000 - mse: 9948340224.0000\n",
      "Epoch 30/50\n",
      "1652/1652 [==============================] - 3s 2ms/step - loss: 9867584512.0000 - mse: 9867584512.0000\n",
      "Epoch 31/50\n",
      "1652/1652 [==============================] - 3s 2ms/step - loss: 9765687296.0000 - mse: 9765687296.0000\n",
      "Epoch 32/50\n",
      "1652/1652 [==============================] - 3s 2ms/step - loss: 9697998848.0000 - mse: 9697998848.0000\n",
      "Epoch 33/50\n",
      "1652/1652 [==============================] - 3s 2ms/step - loss: 9618204672.0000 - mse: 9618204672.0000\n",
      "Epoch 34/50\n",
      "1652/1652 [==============================] - 3s 2ms/step - loss: 9513311232.0000 - mse: 9513311232.0000\n",
      "Epoch 35/50\n",
      "1652/1652 [==============================] - 3s 2ms/step - loss: 9447046144.0000 - mse: 9447046144.0000\n",
      "Epoch 36/50\n",
      "1652/1652 [==============================] - 4s 2ms/step - loss: 9324404736.0000 - mse: 9324404736.0000\n",
      "Epoch 37/50\n",
      "1652/1652 [==============================] - 3s 2ms/step - loss: 9205753856.0000 - mse: 9205753856.0000\n",
      "Epoch 38/50\n",
      "1652/1652 [==============================] - 3s 2ms/step - loss: 9113854976.0000 - mse: 9113854976.0000\n",
      "Epoch 39/50\n",
      "1652/1652 [==============================] - 3s 2ms/step - loss: 9019688960.0000 - mse: 9019688960.0000\n",
      "Epoch 40/50\n",
      "1652/1652 [==============================] - 3s 2ms/step - loss: 8935291904.0000 - mse: 8935291904.0000\n",
      "Epoch 41/50\n",
      "1652/1652 [==============================] - 4s 2ms/step - loss: 8834148352.0000 - mse: 8834148352.0000\n",
      "Epoch 42/50\n",
      "1652/1652 [==============================] - 3s 2ms/step - loss: 8747386880.0000 - mse: 8747386880.0000\n",
      "Epoch 43/50\n",
      "1652/1652 [==============================] - 3s 2ms/step - loss: 8635548672.0000 - mse: 8635548672.0000\n",
      "Epoch 44/50\n",
      "1652/1652 [==============================] - 3s 2ms/step - loss: 8559865344.0000 - mse: 8559865344.0000\n",
      "Epoch 45/50\n",
      "1652/1652 [==============================] - 4s 3ms/step - loss: 8472863232.0000 - mse: 8472863232.0000\n",
      "Epoch 46/50\n",
      "1652/1652 [==============================] - 3s 2ms/step - loss: 8393404416.0000 - mse: 8393404416.0000\n",
      "Epoch 47/50\n",
      "1652/1652 [==============================] - 3s 2ms/step - loss: 8298964992.0000 - mse: 8298964992.0000\n",
      "Epoch 48/50\n",
      "1652/1652 [==============================] - 3s 2ms/step - loss: 8203953664.0000 - mse: 8203953664.0000\n",
      "Epoch 49/50\n",
      "1652/1652 [==============================] - 3s 2ms/step - loss: 8127525888.0000 - mse: 8127525888.0000\n",
      "Epoch 50/50\n",
      "1652/1652 [==============================] - 4s 2ms/step - loss: 8047077376.0000 - mse: 8047077376.0000\n"
     ]
    },
    {
     "data": {
      "text/plain": [
       "<keras.src.callbacks.History at 0x78df8870ddb0>"
      ]
     },
     "execution_count": 11,
     "metadata": {},
     "output_type": "execute_result"
    }
   ],
   "source": [
    "model.fit(X_train, y_train, epochs = 50, batch_size=10)"
   ]
  },
  {
   "cell_type": "code",
   "execution_count": 12,
   "id": "80d50bf8",
   "metadata": {
    "colab": {
     "base_uri": "https://localhost:8080/"
    },
    "executionInfo": {
     "elapsed": 545,
     "status": "ok",
     "timestamp": 1708011673559,
     "user": {
      "displayName": "Tjipto Juwono",
      "userId": "12239864922925145719"
     },
     "user_tz": -420
    },
    "id": "80d50bf8",
    "outputId": "1fa48465-9a83-4473-88b5-622253adae29"
   },
   "outputs": [
    {
     "name": "stdout",
     "output_type": "stream",
     "text": [
      "129/129 [==============================] - 0s 1ms/step\n"
     ]
    }
   ],
   "source": [
    "y_pred = model.predict(X_test)"
   ]
  },
  {
   "cell_type": "code",
   "execution_count": 13,
   "id": "c5363ade",
   "metadata": {
    "colab": {
     "base_uri": "https://localhost:8080/",
     "height": 514
    },
    "executionInfo": {
     "elapsed": 1144,
     "status": "ok",
     "timestamp": 1708011683723,
     "user": {
      "displayName": "Tjipto Juwono",
      "userId": "12239864922925145719"
     },
     "user_tz": -420
    },
    "id": "c5363ade",
    "outputId": "1a766254-ad2d-4e70-8f58-fdcd90050632"
   },
   "outputs": [
    {
     "data": {
      "text/plain": [
       "<Figure size 640x480 with 0 Axes>"
      ]
     },
     "metadata": {},
     "output_type": "display_data"
    },
    {
     "data": {
      "image/png": "[encoded data removed]",
      "text/plain": [
       "<Figure size 640x480 with 1 Axes>"
      ]
     },
     "metadata": {},
     "output_type": "display_data"
    }
   ],
   "source": [
    "plt.clf()\n",
    "fig = plt.figure()\n",
    "fig.suptitle('Scatter plot of Actual versus Predicted')\n",
    "plt.scatter(x=y_pred, y=y_test, marker='.')\n",
    "plt.xlabel('Predicted')\n",
    "plt.ylabel('Actual ')\n",
    "plt.show()"
   ]
  },
  {
   "cell_type": "code",
   "execution_count": null,
   "id": "df73ba48",
   "metadata": {
    "id": "df73ba48"
   },
   "outputs": [],
   "source": []
  }
 ],
 "metadata": {
  "colab": {
   "provenance": []
  },
  "kernelspec": {
   "display_name": "Python 3 (ipykernel)",
   "language": "python",
   "name": "python3"
  },
  "language_info": {
   "codemirror_mode": {
    "name": "ipython",
    "version": 3
   },
   "file_extension": ".py",
   "mimetype": "text/x-python",
   "name": "python",
   "nbconvert_exporter": "python",
   "pygments_lexer": "ipython3",
   "version": "3.11.3"
  }
 },
 "nbformat": 4,
 "nbformat_minor": 5
}
